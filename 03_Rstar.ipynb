{
 "cells": [
  {
   "cell_type": "markdown",
   "source": [
    "# Draw map and gif"
   ],
   "metadata": {
    "collapsed": false
   }
  },
  {
   "cell_type": "markdown",
   "source": [
    "### base imports and tuning"
   ],
   "metadata": {
    "collapsed": false
   }
  },
  {
   "cell_type": "code",
   "execution_count": 17,
   "outputs": [],
   "source": [
    "import matplotlib.pyplot as plt\n",
    "from scipy.ndimage.filters import uniform_filter1d\n",
    "\n",
    "plt.rcParams['figure.figsize'] = [15, 5]\n",
    "EPS = 0.000001"
   ],
   "metadata": {
    "collapsed": false,
    "pycharm": {
     "name": "#%%\n"
    }
   }
  },
  {
   "cell_type": "code",
   "execution_count": 18,
   "outputs": [],
   "source": [
    "import sys\n",
    "import os\n",
    "\n",
    "search_tools_path = os.path.join(os.getcwd(), 'search_tools')\n",
    "if search_tools_path not in sys.path:\n",
    "    sys.path.append(search_tools_path)"
   ],
   "metadata": {
    "collapsed": false,
    "pycharm": {
     "name": "#%%\n"
    }
   }
  },
  {
   "cell_type": "code",
   "execution_count": 19,
   "outputs": [
    {
     "name": "stdout",
     "output_type": "stream",
     "text": [
      "The autoreload extension is already loaded. To reload it, use:\n",
      "  %reload_ext autoreload\n"
     ]
    }
   ],
   "source": [
    "%load_ext autoreload\n",
    "%autoreload 2"
   ],
   "metadata": {
    "collapsed": false,
    "pycharm": {
     "name": "#%%\n"
    }
   }
  },
  {
   "cell_type": "markdown",
   "source": [
    "### pipeline imports"
   ],
   "metadata": {
    "collapsed": false
   }
  },
  {
   "cell_type": "code",
   "execution_count": 20,
   "outputs": [
    {
     "ename": "TypeError",
     "evalue": "Callable[args, result]: args must be a list. Got <class 'area.Area'>",
     "output_type": "error",
     "traceback": [
      "\u001B[1;31m---------------------------------------------------------------------------\u001B[0m",
      "\u001B[1;31mTypeError\u001B[0m                                 Traceback (most recent call last)",
      "\u001B[1;32m~\\AppData\\Local\\Temp/ipykernel_19264/3576107443.py\u001B[0m in \u001B[0;36m<module>\u001B[1;34m\u001B[0m\n\u001B[0;32m      3\u001B[0m \u001B[1;33m\u001B[0m\u001B[0m\n\u001B[0;32m      4\u001B[0m \u001B[1;32mfrom\u001B[0m \u001B[0mmoving_ai\u001B[0m\u001B[1;33m.\u001B[0m\u001B[0mmai_map_reader\u001B[0m \u001B[1;32mimport\u001B[0m \u001B[0mMaiReader\u001B[0m\u001B[1;33m,\u001B[0m \u001B[0mMaiMaps\u001B[0m\u001B[1;33m\u001B[0m\u001B[1;33m\u001B[0m\u001B[0m\n\u001B[1;32m----> 5\u001B[1;33m \u001B[1;32mfrom\u001B[0m \u001B[0mpipeline\u001B[0m \u001B[1;32mimport\u001B[0m \u001B[1;33m*\u001B[0m\u001B[1;33m\u001B[0m\u001B[1;33m\u001B[0m\u001B[0m\n\u001B[0m\u001B[0;32m      6\u001B[0m \u001B[1;32mfrom\u001B[0m \u001B[0mrun_result\u001B[0m \u001B[1;32mimport\u001B[0m \u001B[0mRunResult\u001B[0m\u001B[1;33m\u001B[0m\u001B[1;33m\u001B[0m\u001B[0m\n\u001B[0;32m      7\u001B[0m \u001B[1;33m\u001B[0m\u001B[0m\n",
      "\u001B[1;32m~\\PycharmProjects\\HeuristicsBetterThan\\search_tools\\pipeline.py\u001B[0m in \u001B[0;36m<module>\u001B[1;34m\u001B[0m\n\u001B[0;32m     10\u001B[0m \u001B[1;32mfrom\u001B[0m \u001B[0mprocessors\u001B[0m\u001B[1;33m.\u001B[0m\u001B[0mprocessor\u001B[0m \u001B[1;32mimport\u001B[0m \u001B[0mProcessor\u001B[0m\u001B[1;33m,\u001B[0m \u001B[0mLProcessor\u001B[0m\u001B[1;33m,\u001B[0m \u001B[0mAreaProcessor\u001B[0m\u001B[1;33m\u001B[0m\u001B[1;33m\u001B[0m\u001B[0m\n\u001B[0;32m     11\u001B[0m \u001B[1;32mfrom\u001B[0m \u001B[0marea\u001B[0m \u001B[1;32mimport\u001B[0m \u001B[0mArea\u001B[0m\u001B[1;33m\u001B[0m\u001B[1;33m\u001B[0m\u001B[0m\n\u001B[1;32m---> 12\u001B[1;33m \u001B[1;32mclass\u001B[0m \u001B[0mPipeline\u001B[0m\u001B[1;33m(\u001B[0m\u001B[0mobject\u001B[0m\u001B[1;33m)\u001B[0m\u001B[1;33m:\u001B[0m\u001B[1;33m\u001B[0m\u001B[1;33m\u001B[0m\u001B[0m\n\u001B[0m\u001B[0;32m     13\u001B[0m     def __init__(self,\n\u001B[0;32m     14\u001B[0m                  \u001B[0mreader\u001B[0m\u001B[1;33m:\u001B[0m      \u001B[0mReader\u001B[0m\u001B[1;33m,\u001B[0m\u001B[1;33m\u001B[0m\u001B[1;33m\u001B[0m\u001B[0m\n",
      "\u001B[1;32m~\\PycharmProjects\\HeuristicsBetterThan\\search_tools\\pipeline.py\u001B[0m in \u001B[0;36mPipeline\u001B[1;34m()\u001B[0m\n\u001B[0;32m     14\u001B[0m                  \u001B[0mreader\u001B[0m\u001B[1;33m:\u001B[0m      \u001B[0mReader\u001B[0m\u001B[1;33m,\u001B[0m\u001B[1;33m\u001B[0m\u001B[1;33m\u001B[0m\u001B[0m\n\u001B[0;32m     15\u001B[0m                  \u001B[0malgorithms\u001B[0m\u001B[1;33m:\u001B[0m  \u001B[0mList\u001B[0m\u001B[1;33m[\u001B[0m\u001B[0mSearchAlgorithm\u001B[0m\u001B[1;33m]\u001B[0m\u001B[1;33m,\u001B[0m\u001B[1;33m\u001B[0m\u001B[1;33m\u001B[0m\u001B[0m\n\u001B[1;32m---> 16\u001B[1;33m                  \u001B[0mmap_wrapper\u001B[0m\u001B[1;33m:\u001B[0m \u001B[0mCallable\u001B[0m\u001B[1;33m[\u001B[0m\u001B[0mArea\u001B[0m\u001B[1;33m,\u001B[0m \u001B[0mArea\u001B[0m\u001B[1;33m]\u001B[0m \u001B[1;33m=\u001B[0m \u001B[1;32mlambda\u001B[0m \u001B[0mx\u001B[0m\u001B[1;33m:\u001B[0m\u001B[0mx\u001B[0m\u001B[1;33m,\u001B[0m\u001B[1;33m\u001B[0m\u001B[1;33m\u001B[0m\u001B[0m\n\u001B[0m\u001B[0;32m     17\u001B[0m                  \u001B[0mres_builder\u001B[0m\u001B[1;33m:\u001B[0m \u001B[0mCallable\u001B[0m\u001B[1;33m[\u001B[0m\u001B[0mTuple\u001B[0m\u001B[1;33m[\u001B[0m\u001B[0mNode\u001B[0m\u001B[1;33m,\u001B[0m \u001B[0mClosed\u001B[0m\u001B[1;33m,\u001B[0m \u001B[0mOpen\u001B[0m\u001B[1;33m]\u001B[0m\u001B[1;33m,\u001B[0m \u001B[0mRunResult\u001B[0m\u001B[1;33m]\u001B[0m \u001B[1;33m=\u001B[0m \u001B[0mRunResult\u001B[0m\u001B[1;33m.\u001B[0m\u001B[0mcreate\u001B[0m\u001B[1;33m,\u001B[0m\u001B[1;33m\u001B[0m\u001B[1;33m\u001B[0m\u001B[0m\n\u001B[0;32m     18\u001B[0m                  \u001B[0mprocessor\u001B[0m\u001B[1;33m:\u001B[0m   \u001B[0mProcessor\u001B[0m \u001B[1;33m=\u001B[0m \u001B[1;32mlambda\u001B[0m \u001B[0mx\u001B[0m\u001B[1;33m:\u001B[0m\u001B[0mx\u001B[0m\u001B[1;33m,\u001B[0m\u001B[1;33m\u001B[0m\u001B[1;33m\u001B[0m\u001B[0m\n",
      "\u001B[1;32m~\\anaconda3\\envs\\python38_env\\lib\\typing.py\u001B[0m in \u001B[0;36m__getitem__\u001B[1;34m(self, params)\u001B[0m\n\u001B[0;32m    811\u001B[0m         \u001B[1;32melse\u001B[0m\u001B[1;33m:\u001B[0m\u001B[1;33m\u001B[0m\u001B[1;33m\u001B[0m\u001B[0m\n\u001B[0;32m    812\u001B[0m             \u001B[1;32mif\u001B[0m \u001B[1;32mnot\u001B[0m \u001B[0misinstance\u001B[0m\u001B[1;33m(\u001B[0m\u001B[0margs\u001B[0m\u001B[1;33m,\u001B[0m \u001B[0mlist\u001B[0m\u001B[1;33m)\u001B[0m\u001B[1;33m:\u001B[0m\u001B[1;33m\u001B[0m\u001B[1;33m\u001B[0m\u001B[0m\n\u001B[1;32m--> 813\u001B[1;33m                 raise TypeError(f\"Callable[args, result]: args must be a list.\"\n\u001B[0m\u001B[0;32m    814\u001B[0m                                 f\" Got {args}\")\n\u001B[0;32m    815\u001B[0m             \u001B[0mparams\u001B[0m \u001B[1;33m=\u001B[0m \u001B[1;33m(\u001B[0m\u001B[0mtuple\u001B[0m\u001B[1;33m(\u001B[0m\u001B[0margs\u001B[0m\u001B[1;33m)\u001B[0m\u001B[1;33m,\u001B[0m \u001B[0mresult\u001B[0m\u001B[1;33m)\u001B[0m\u001B[1;33m\u001B[0m\u001B[1;33m\u001B[0m\u001B[0m\n",
      "\u001B[1;31mTypeError\u001B[0m: Callable[args, result]: args must be a list. Got <class 'area.Area'>"
     ]
    }
   ],
   "source": [
    "from run_result import EnrichedRunResult\n",
    "from moving_ai.mai_map_visualizer import VisualizeMaiMap\n",
    "\n",
    "from moving_ai.mai_map_reader import MaiReader, MaiMaps\n",
    "from pipeline import *\n",
    "from run_result import RunResult\n",
    "\n",
    "from algorithms.astar import Astar\n",
    "from algorithms.rstar import Rstar\n",
    "from algorithms.wastar import WAstar\n",
    "from algorithms.astar_heuristics import diagonal_dist"
   ],
   "metadata": {
    "collapsed": false,
    "pycharm": {
     "name": "#%%\n"
    }
   }
  },
  {
   "cell_type": "markdown",
   "source": [
    "### draw map pipeline"
   ],
   "metadata": {
    "collapsed": false
   }
  },
  {
   "cell_type": "code",
   "execution_count": null,
   "outputs": [],
   "source": [
    "def init_map_reader():\n",
    "    map_reader_0 = MaiReader(MaiMaps.DEN001D)\n",
    "    selected_task_callback = lambda t: t.start_c == (91, 23) and t.goal_c == (141, 25)\n",
    "    selected_task = filter(selected_task_callback, map_reader_0.read_tasks()).__next__()\n",
    "    return map_reader_0.with_task(selected_task)\n",
    "\n",
    "map_reader = init_map_reader()"
   ],
   "metadata": {
    "collapsed": false,
    "pycharm": {
     "name": "#%%\n"
    }
   }
  },
  {
   "cell_type": "code",
   "execution_count": null,
   "outputs": [],
   "source": [
    "from moving_ai.mai_map import DETAILS, STRIGHT_DELTAS, DIAG_DELTAS, with_move\n",
    "from random import uniform\n",
    "from math import pi, cos, sin, sqrt\n",
    "class RstarWrapper(Area):\n",
    "    def __init__(self, area: Area):\n",
    "        assert type(area) == \"<class 'moving_ai.mai_map.MapMAI\"\n",
    "        self.area = area\n",
    "\n",
    "    def dist(self, s1, s2):\n",
    "        return  sqrt((s1[0]-s2[0])**2+(s1[1]-s2[1])**2)**2\n",
    "    def get_neighbors(self, s, K, D):\n",
    "        neighbors = []\n",
    "        while len(neighbors) < K:\n",
    "            alpha = uniform(0, 2*pi)\n",
    "            x, y = int(D*sin(alpha)), int(D*cos(alpha))\n",
    "            if self.area.traversable((x,y)):\n",
    "                neighbors.append((x,y))\n",
    "        return neighbors"
   ],
   "metadata": {
    "collapsed": false,
    "pycharm": {
     "name": "#%%\n"
    }
   }
  },
  {
   "cell_type": "code",
   "execution_count": null,
   "outputs": [],
   "source": [
    "p = Pipeline(\n",
    "    reader=map_reader,\n",
    "    algorithms=[Rstar(heuristic=diagonal_dist, w=3, K=10, D=60)],\n",
    "    res_builder=EnrichedRunResult.create,\n",
    "    map_wrapper = RstarWrapper,\n",
    "    processor=VisualizeMaiMap()\n",
    ")"
   ],
   "metadata": {
    "collapsed": false,
    "pycharm": {
     "name": "#%%\n"
    }
   }
  },
  {
   "cell_type": "code",
   "execution_count": null,
   "outputs": [],
   "source": [
    "p.run()"
   ],
   "metadata": {
    "collapsed": false,
    "pycharm": {
     "name": "#%%\n"
    }
   }
  },
  {
   "cell_type": "markdown",
   "source": [
    "### draw map gif pipeline"
   ],
   "metadata": {
    "collapsed": false
   }
  },
  {
   "cell_type": "code",
   "execution_count": null,
   "outputs": [],
   "source": [
    "from moving_ai.mai_map_visualizer import VisualizeMaiMapGif"
   ],
   "metadata": {
    "collapsed": false,
    "pycharm": {
     "name": "#%%\n"
    }
   }
  },
  {
   "cell_type": "code",
   "execution_count": null,
   "outputs": [],
   "source": [
    "p2 = Pipeline(\n",
    "    reader=map_reader,\n",
    "    algorithms=[WAstar(heuristic=diagonal_dist, weight=3.)],\n",
    "    res_builder=EnrichedRunResult.create,\n",
    "    processor=VisualizeMaiMapGif()\n",
    ")"
   ],
   "metadata": {
    "collapsed": false,
    "pycharm": {
     "name": "#%%\n"
    }
   }
  },
  {
   "cell_type": "code",
   "execution_count": null,
   "outputs": [],
   "source": [
    "p2.run()\n"
   ],
   "metadata": {
    "collapsed": false,
    "pycharm": {
     "name": "#%%\n"
    }
   }
  }
 ],
 "metadata": {
  "kernelspec": {
   "display_name": "Python 3",
   "language": "python",
   "name": "python3"
  },
  "language_info": {
   "codemirror_mode": {
    "name": "ipython",
    "version": 2
   },
   "file_extension": ".py",
   "mimetype": "text/x-python",
   "name": "python",
   "nbconvert_exporter": "python",
   "pygments_lexer": "ipython2",
   "version": "2.7.6"
  }
 },
 "nbformat": 4,
 "nbformat_minor": 0
}