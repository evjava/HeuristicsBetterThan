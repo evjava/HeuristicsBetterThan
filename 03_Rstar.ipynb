{
 "cells": [
  {
   "cell_type": "markdown",
   "source": [
    "# Draw map and gif"
   ],
   "metadata": {
    "collapsed": false
   }
  },
  {
   "cell_type": "markdown",
   "source": [
    "### base imports and tuning"
   ],
   "metadata": {
    "collapsed": false
   }
  },
  {
   "cell_type": "code",
   "execution_count": null,
   "outputs": [],
   "source": [
    "import matplotlib.pyplot as plt\n",
    "from scipy.ndimage.filters import uniform_filter1d\n",
    "\n",
    "plt.rcParams['figure.figsize'] = [15, 5]\n",
    "EPS = 0.000001"
   ],
   "metadata": {
    "collapsed": false,
    "pycharm": {
     "name": "#%%\n"
    }
   }
  },
  {
   "cell_type": "code",
   "execution_count": null,
   "outputs": [],
   "source": [
    "import sys\n",
    "import os\n",
    "\n",
    "search_tools_path = os.path.join(os.getcwd(), 'search_tools')\n",
    "if search_tools_path not in sys.path:\n",
    "    sys.path.append(search_tools_path)"
   ],
   "metadata": {
    "collapsed": false,
    "pycharm": {
     "name": "#%%\n"
    }
   }
  },
  {
   "cell_type": "code",
   "execution_count": null,
   "outputs": [],
   "source": [
    "%load_ext autoreload\n",
    "%autoreload 2"
   ],
   "metadata": {
    "collapsed": false,
    "pycharm": {
     "name": "#%%\n"
    }
   }
  },
  {
   "cell_type": "markdown",
   "source": [
    "### pipeline imports"
   ],
   "metadata": {
    "collapsed": false
   }
  },
  {
   "cell_type": "code",
   "execution_count": null,
   "outputs": [],
   "source": [
    "from run_result import EnrichedRunResult\n",
    "from moving_ai.mai_map_visualizer import VisualizeMaiMap\n",
    "\n",
    "from moving_ai.mai_map_reader import MaiReader, MaiMaps\n",
    "from pipeline import *\n",
    "from run_result import RunResult\n",
    "\n",
    "from algorithms.astar import Astar\n",
    "from algorithms.rstar import Rstar\n",
    "from algorithms.wastar import WAstar\n",
    "from algorithms.astar_heuristics import diagonal_dist"
   ],
   "metadata": {
    "collapsed": false,
    "pycharm": {
     "name": "#%%\n"
    }
   }
  },
  {
   "cell_type": "markdown",
   "source": [
    "### draw map pipeline"
   ],
   "metadata": {
    "collapsed": false
   }
  },
  {
   "cell_type": "code",
   "execution_count": null,
   "outputs": [],
   "source": [
    "def init_map_reader():\n",
    "    map_reader_0 = MaiReader(MaiMaps.DEN001D)\n",
    "    selected_task_callback = lambda t: t.start_c == (91, 23) and t.goal_c == (141, 25)\n",
    "    selected_task = filter(selected_task_callback, map_reader_0.read_tasks()).__next__()\n",
    "    return map_reader_0.with_task(selected_task)\n",
    "\n",
    "map_reader = init_map_reader()"
   ],
   "metadata": {
    "collapsed": false,
    "pycharm": {
     "name": "#%%\n"
    }
   }
  },
  {
   "cell_type": "code",
   "execution_count": null,
   "outputs": [],
   "source": [
    "p = Pipeline(\n",
    "    reader=map_reader,\n",
    "    algorithms=[Rstar(heuristic=diagonal_dist, w=3, K=10, D=60)],\n",
    "    res_builder=EnrichedRunResult.create,\n",
    "    processor=VisualizeMaiMap()\n",
    ")"
   ],
   "metadata": {
    "collapsed": false,
    "pycharm": {
     "name": "#%%\n"
    }
   }
  },
  {
   "cell_type": "code",
   "execution_count": null,
   "outputs": [],
   "source": [
    "p.run()"
   ],
   "metadata": {
    "collapsed": false,
    "pycharm": {
     "name": "#%%\n"
    }
   }
  },
  {
   "cell_type": "markdown",
   "source": [
    "### draw map gif pipeline"
   ],
   "metadata": {
    "collapsed": false
   }
  },
  {
   "cell_type": "code",
   "execution_count": null,
   "outputs": [],
   "source": [
    "from moving_ai.mai_map_visualizer import VisualizeMaiMapGif"
   ],
   "metadata": {
    "collapsed": false,
    "pycharm": {
     "name": "#%%\n"
    }
   }
  },
  {
   "cell_type": "code",
   "execution_count": null,
   "outputs": [],
   "source": [
    "p2 = Pipeline(\n",
    "    reader=map_reader,\n",
    "    algorithms=[WAstar(heuristic=diagonal_dist, weight=3.)],\n",
    "    res_builder=EnrichedRunResult.create,\n",
    "    processor=VisualizeMaiMapGif()\n",
    ")"
   ],
   "metadata": {
    "collapsed": false,
    "pycharm": {
     "name": "#%%\n"
    }
   }
  },
  {
   "cell_type": "code",
   "execution_count": null,
   "outputs": [],
   "source": [
    "p2.run()\n"
   ],
   "metadata": {
    "collapsed": false,
    "pycharm": {
     "name": "#%%\n"
    }
   }
  }
 ],
 "metadata": {
  "kernelspec": {
   "display_name": "Python 3",
   "language": "python",
   "name": "python3"
  },
  "language_info": {
   "codemirror_mode": {
    "name": "ipython",
    "version": 2
   },
   "file_extension": ".py",
   "mimetype": "text/x-python",
   "name": "python",
   "nbconvert_exporter": "python",
   "pygments_lexer": "ipython2",
   "version": "2.7.6"
  }
 },
 "nbformat": 4,
 "nbformat_minor": 0
}