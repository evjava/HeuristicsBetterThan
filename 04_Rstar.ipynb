{
 "cells": [
  {
   "cell_type": "markdown",
   "id": "c053fa48",
   "metadata": {},
   "source": [
    "# MRA*"
   ]
  },
  {
   "cell_type": "markdown",
   "id": "3d484e19",
   "metadata": {},
   "source": [
    "### base imports and tuning"
   ]
  },
  {
   "cell_type": "code",
   "execution_count": 1,
   "id": "cfdd6e2b",
   "metadata": {},
   "outputs": [],
   "source": [
    "import matplotlib.pyplot as plt\n",
    "from scipy.ndimage.filters import uniform_filter1d\n",
    "\n",
    "plt.rcParams['figure.figsize'] = [15, 5]\n",
    "EPS = 0.000001"
   ]
  },
  {
   "cell_type": "code",
   "execution_count": 2,
   "id": "d79e4935",
   "metadata": {},
   "outputs": [],
   "source": [
    "import sys\n",
    "import os\n",
    "\n",
    "search_tools_path = os.path.join(os.getcwd(), 'search_tools')\n",
    "if search_tools_path not in sys.path:\n",
    "    sys.path.append(search_tools_path)"
   ]
  },
  {
   "cell_type": "code",
   "execution_count": 3,
   "id": "0c8e8af8",
   "metadata": {},
   "outputs": [],
   "source": [
    "%load_ext autoreload\n",
    "%autoreload 2"
   ]
  },
  {
   "cell_type": "markdown",
   "id": "d1e74ce3",
   "metadata": {},
   "source": [
    "### pipeline"
   ]
  },
  {
   "cell_type": "code",
   "execution_count": 4,
   "id": "3d978096",
   "metadata": {},
   "outputs": [
    {
     "ename": "TypeError",
     "evalue": "Callable[args, result]: args must be a list. Got typing.Tuple[containers.path.Path, containers.base_container.Container, containers.base_container.Container]",
     "output_type": "error",
     "traceback": [
      "\u001B[1;31m---------------------------------------------------------------------------\u001B[0m",
      "\u001B[1;31mTypeError\u001B[0m                                 Traceback (most recent call last)",
      "\u001B[1;32m~\\AppData\\Local\\Temp/ipykernel_29336/3361725878.py\u001B[0m in \u001B[0;36m<module>\u001B[1;34m\u001B[0m\n\u001B[0;32m      1\u001B[0m \u001B[1;32mfrom\u001B[0m \u001B[0mmoving_ai\u001B[0m\u001B[1;33m.\u001B[0m\u001B[0mmai_map_reader\u001B[0m \u001B[1;32mimport\u001B[0m \u001B[0mMaiReader\u001B[0m\u001B[1;33m,\u001B[0m \u001B[0mMaiMaps\u001B[0m\u001B[1;33m\u001B[0m\u001B[1;33m\u001B[0m\u001B[0m\n\u001B[1;32m----> 2\u001B[1;33m \u001B[1;32mfrom\u001B[0m \u001B[0mpipeline\u001B[0m \u001B[1;32mimport\u001B[0m \u001B[0mPipeline\u001B[0m\u001B[1;33m\u001B[0m\u001B[1;33m\u001B[0m\u001B[0m\n\u001B[0m\u001B[0;32m      3\u001B[0m \u001B[1;32mfrom\u001B[0m \u001B[0mmoving_ai\u001B[0m\u001B[1;33m.\u001B[0m\u001B[0mmai_map_visualizer\u001B[0m \u001B[1;32mimport\u001B[0m \u001B[0mVisualizeMaiMap\u001B[0m\u001B[1;33m,\u001B[0m \u001B[0mVisualizeMaiMapGif\u001B[0m\u001B[1;33m\u001B[0m\u001B[1;33m\u001B[0m\u001B[0m\n\u001B[0;32m      4\u001B[0m \u001B[1;33m\u001B[0m\u001B[0m\n\u001B[0;32m      5\u001B[0m \u001B[1;32mfrom\u001B[0m \u001B[0malgorithms\u001B[0m\u001B[1;33m.\u001B[0m\u001B[0mastar_heuristics\u001B[0m \u001B[1;32mimport\u001B[0m \u001B[0mdiagonal_dist\u001B[0m\u001B[1;33m\u001B[0m\u001B[1;33m\u001B[0m\u001B[0m\n",
      "\u001B[1;32m~\\PycharmProjects\\HeuristicsBetterThan\\search_tools\\pipeline.py\u001B[0m in \u001B[0;36m<module>\u001B[1;34m\u001B[0m\n\u001B[0;32m     10\u001B[0m \u001B[1;32mfrom\u001B[0m \u001B[0mprocessors\u001B[0m\u001B[1;33m.\u001B[0m\u001B[0mprocessor\u001B[0m \u001B[1;32mimport\u001B[0m \u001B[0mProcessor\u001B[0m\u001B[1;33m,\u001B[0m \u001B[0mLProcessor\u001B[0m\u001B[1;33m,\u001B[0m \u001B[0mAreaProcessor\u001B[0m\u001B[1;33m\u001B[0m\u001B[1;33m\u001B[0m\u001B[0m\n\u001B[0;32m     11\u001B[0m \u001B[1;33m\u001B[0m\u001B[0m\n\u001B[1;32m---> 12\u001B[1;33m \u001B[1;32mclass\u001B[0m \u001B[0mPipeline\u001B[0m\u001B[1;33m(\u001B[0m\u001B[0mobject\u001B[0m\u001B[1;33m)\u001B[0m\u001B[1;33m:\u001B[0m\u001B[1;33m\u001B[0m\u001B[1;33m\u001B[0m\u001B[0m\n\u001B[0m\u001B[0;32m     13\u001B[0m     def __init__(self,\n\u001B[0;32m     14\u001B[0m                  \u001B[0mreader\u001B[0m\u001B[1;33m:\u001B[0m      \u001B[0mReader\u001B[0m\u001B[1;33m,\u001B[0m\u001B[1;33m\u001B[0m\u001B[1;33m\u001B[0m\u001B[0m\n",
      "\u001B[1;32m~\\PycharmProjects\\HeuristicsBetterThan\\search_tools\\pipeline.py\u001B[0m in \u001B[0;36mPipeline\u001B[1;34m()\u001B[0m\n\u001B[0;32m     14\u001B[0m                  \u001B[0mreader\u001B[0m\u001B[1;33m:\u001B[0m      \u001B[0mReader\u001B[0m\u001B[1;33m,\u001B[0m\u001B[1;33m\u001B[0m\u001B[1;33m\u001B[0m\u001B[0m\n\u001B[0;32m     15\u001B[0m                  \u001B[0malgorithms\u001B[0m\u001B[1;33m:\u001B[0m  \u001B[0mList\u001B[0m\u001B[1;33m[\u001B[0m\u001B[0mSearchAlgorithm\u001B[0m\u001B[1;33m]\u001B[0m\u001B[1;33m,\u001B[0m\u001B[1;33m\u001B[0m\u001B[1;33m\u001B[0m\u001B[0m\n\u001B[1;32m---> 16\u001B[1;33m                  \u001B[0mres_builder\u001B[0m\u001B[1;33m:\u001B[0m \u001B[0mCallable\u001B[0m\u001B[1;33m[\u001B[0m\u001B[0mRunOutput\u001B[0m\u001B[1;33m,\u001B[0m \u001B[0mRunResult\u001B[0m\u001B[1;33m]\u001B[0m \u001B[1;33m=\u001B[0m \u001B[0mRunResult\u001B[0m\u001B[1;33m.\u001B[0m\u001B[0mcreate\u001B[0m\u001B[1;33m,\u001B[0m\u001B[1;33m\u001B[0m\u001B[1;33m\u001B[0m\u001B[0m\n\u001B[0m\u001B[0;32m     17\u001B[0m                  \u001B[0mprocessor\u001B[0m\u001B[1;33m:\u001B[0m   \u001B[0mProcessor\u001B[0m \u001B[1;33m=\u001B[0m \u001B[1;32mlambda\u001B[0m \u001B[0mx\u001B[0m\u001B[1;33m:\u001B[0m\u001B[0mx\u001B[0m\u001B[1;33m,\u001B[0m\u001B[1;33m\u001B[0m\u001B[1;33m\u001B[0m\u001B[0m\n\u001B[0;32m     18\u001B[0m                  ):\n",
      "\u001B[1;32m~\\anaconda3\\envs\\python38_env\\lib\\typing.py\u001B[0m in \u001B[0;36m__getitem__\u001B[1;34m(self, params)\u001B[0m\n\u001B[0;32m    811\u001B[0m         \u001B[1;32melse\u001B[0m\u001B[1;33m:\u001B[0m\u001B[1;33m\u001B[0m\u001B[1;33m\u001B[0m\u001B[0m\n\u001B[0;32m    812\u001B[0m             \u001B[1;32mif\u001B[0m \u001B[1;32mnot\u001B[0m \u001B[0misinstance\u001B[0m\u001B[1;33m(\u001B[0m\u001B[0margs\u001B[0m\u001B[1;33m,\u001B[0m \u001B[0mlist\u001B[0m\u001B[1;33m)\u001B[0m\u001B[1;33m:\u001B[0m\u001B[1;33m\u001B[0m\u001B[1;33m\u001B[0m\u001B[0m\n\u001B[1;32m--> 813\u001B[1;33m                 raise TypeError(f\"Callable[args, result]: args must be a list.\"\n\u001B[0m\u001B[0;32m    814\u001B[0m                                 f\" Got {args}\")\n\u001B[0;32m    815\u001B[0m             \u001B[0mparams\u001B[0m \u001B[1;33m=\u001B[0m \u001B[1;33m(\u001B[0m\u001B[0mtuple\u001B[0m\u001B[1;33m(\u001B[0m\u001B[0margs\u001B[0m\u001B[1;33m)\u001B[0m\u001B[1;33m,\u001B[0m \u001B[0mresult\u001B[0m\u001B[1;33m)\u001B[0m\u001B[1;33m\u001B[0m\u001B[1;33m\u001B[0m\u001B[0m\n",
      "\u001B[1;31mTypeError\u001B[0m: Callable[args, result]: args must be a list. Got typing.Tuple[containers.path.Path, containers.base_container.Container, containers.base_container.Container]"
     ]
    }
   ],
   "source": [
    "from moving_ai.mai_map_reader import MaiReader, MaiMaps\n",
    "from pipeline import Pipeline\n",
    "from moving_ai.mai_map_visualizer import VisualizeMaiMap, VisualizeMaiMapGif\n",
    "\n",
    "from algorithms.astar_heuristics import diagonal_dist\n",
    "from algorithms.mrastar import MRAstar\n",
    "from algorithms.wastar import WAstar\n",
    "from algorithms.astar import Astar"
   ]
  },
  {
   "cell_type": "code",
   "execution_count": null,
   "id": "78c5777c",
   "metadata": {},
   "outputs": [],
   "source": [
    "def init_map_reader():\n",
    "    map_reader_0 = MaiReader(MaiMaps.DEN001D)\n",
    "    selected_task_callback = lambda t: t.start_c == (91, 23) and t.goal_c == (141, 25)\n",
    "    selected_task = filter(selected_task_callback, map_reader_0.read_tasks()).__next__()\n",
    "    return map_reader_0.with_task(selected_task)\n",
    "\n",
    "map_reader = init_map_reader()"
   ]
  },
  {
   "cell_type": "code",
   "execution_count": null,
   "id": "39e1eada",
   "metadata": {},
   "outputs": [],
   "source": [
    "algorithms = [\n",
    "    Astar(diagonal_dist),\n",
    "    WAstar(diagonal_dist, 3),\n",
    "    MRAstar(diagonal_dist, resolutions=(1, 3), w_1=3, w_2=3),\n",
    "]\n",
    "\n",
    "p = Pipeline(\n",
    "    reader=map_reader,\n",
    "    algorithms=algorithms,\n",
    "    processor=VisualizeMaiMap()\n",
    ")"
   ]
  },
  {
   "cell_type": "code",
   "execution_count": null,
   "id": "f98e4971",
   "metadata": {
    "scrolled": true
   },
   "outputs": [],
   "source": [
    "p.run()"
   ]
  },
  {
   "cell_type": "code",
   "execution_count": null,
   "id": "c56656bf",
   "metadata": {},
   "outputs": [],
   "source": [
    "p.with_processor(VisualizeMaiMapGif()).run()"
   ]
  },
  {
   "cell_type": "code",
   "execution_count": null,
   "id": "0a5c1e7f",
   "metadata": {},
   "outputs": [],
   "source": []
  }
 ],
 "metadata": {
  "kernelspec": {
   "name": "python3",
   "language": "python",
   "display_name": "Python 3 (ipykernel)"
  },
  "language_info": {
   "codemirror_mode": {
    "name": "ipython",
    "version": 3
   },
   "file_extension": ".py",
   "mimetype": "text/x-python",
   "name": "python",
   "nbconvert_exporter": "python",
   "pygments_lexer": "ipython3",
   "version": "3.9.9"
  }
 },
 "nbformat": 4,
 "nbformat_minor": 5
}