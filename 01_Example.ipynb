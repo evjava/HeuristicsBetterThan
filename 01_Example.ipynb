{
 "cells": [
  {
   "cell_type": "markdown",
   "id": "41a8e2e2",
   "metadata": {},
   "source": [
    "# Notebook to show workflow"
   ]
  },
  {
   "cell_type": "markdown",
   "id": "9bfb1468",
   "metadata": {},
   "source": [
    "### plots stuff"
   ]
  },
  {
   "cell_type": "code",
   "execution_count": 1,
   "id": "565684fb",
   "metadata": {},
   "outputs": [],
   "source": [
    "import matplotlib.pyplot as plt\n",
    "from scipy.ndimage.filters import uniform_filter1d\n",
    "\n",
    "plt.rcParams['figure.figsize'] = [15, 5]\n",
    "EPS = 0.000001"
   ]
  },
  {
   "cell_type": "markdown",
   "id": "bb4cad32",
   "metadata": {},
   "source": [
    "### some tricks"
   ]
  },
  {
   "cell_type": "code",
   "execution_count": 2,
   "id": "5bace996",
   "metadata": {},
   "outputs": [],
   "source": [
    "import sys\n",
    "import os\n",
    "\n",
    "search_tools_path = os.path.join(os.getcwd(), 'search_tools')\n",
    "if search_tools_path not in sys.path:\n",
    "    sys.path.append(search_tools_path)"
   ]
  },
  {
   "cell_type": "code",
   "execution_count": 3,
   "id": "80165aaf",
   "metadata": {},
   "outputs": [],
   "source": [
    "%load_ext autoreload\n",
    "%autoreload 2"
   ]
  },
  {
   "cell_type": "markdown",
   "id": "b15f8190",
   "metadata": {},
   "source": [
    "### any workflow needs these imports"
   ]
  },
  {
   "cell_type": "code",
   "execution_count": 4,
   "id": "143a2749",
   "metadata": {},
   "outputs": [],
   "source": [
    "from moving_ai.mai_map_reader import MaiReader, MaiMaps\n",
    "from pipeline import *\n",
    "from run_result import RunResult"
   ]
  },
  {
   "cell_type": "markdown",
   "id": "d660de0a",
   "metadata": {},
   "source": [
    "# Let's test A*"
   ]
  },
  {
   "cell_type": "code",
   "execution_count": 5,
   "id": "a3091462",
   "metadata": {},
   "outputs": [],
   "source": [
    "from algorithms.astar import Astar\n",
    "from algorithms.astar_heuristics import diagonal_dist"
   ]
  },
  {
   "cell_type": "markdown",
   "id": "09bb829d",
   "metadata": {},
   "source": [
    "### Let's define processor which checks that A* is correct\n",
    "\n",
    "Processors expects a_result of type `List[Tuple[str, List[RunResult]]]`\n",
    "\n",
    "(i.e. each element of list is $ (\\mathrm{algorithm\\_name}, [res_1, res_2, res_3,..]) $)"
   ]
  },
  {
   "cell_type": "code",
   "execution_count": 6,
   "id": "84bd8362",
   "metadata": {},
   "outputs": [],
   "source": [
    "def process(a_results):\n",
    "    for a_name, rs in a_results:\n",
    "        for r in rs:\n",
    "            if abs(r.act_len - r.opt_len) > EPS:\n",
    "                print(f'Wrong result for algorithm: {a_name}')\n",
    "                print(f'task: {r.task}, expected: {r.opt_len}, actual: {r.act_len}')\n",
    "                return\n",
    "    print('Everything is ok!')"
   ]
  },
  {
   "cell_type": "markdown",
   "id": "b2bb0fe8",
   "metadata": {},
   "source": [
    "### Let's build simple pipeline"
   ]
  },
  {
   "cell_type": "code",
   "execution_count": 7,
   "id": "b70345fd",
   "metadata": {},
   "outputs": [
    {
     "ename": "KeyboardInterrupt",
     "evalue": "",
     "output_type": "error",
     "traceback": [
      "\u001b[0;31m---------------------------------------------------------------------------\u001b[0m",
      "\u001b[0;31mKeyboardInterrupt\u001b[0m                         Traceback (most recent call last)",
      "\u001b[0;32m/tmp/ipykernel_32605/3055072055.py\u001b[0m in \u001b[0;36m<module>\u001b[0;34m\u001b[0m\n\u001b[1;32m      8\u001b[0m \u001b[0;34m\u001b[0m\u001b[0m\n\u001b[1;32m      9\u001b[0m \u001b[0mp\u001b[0m \u001b[0;34m=\u001b[0m \u001b[0mbuild_dummy_pipeline\u001b[0m\u001b[0;34m(\u001b[0m\u001b[0;34m)\u001b[0m\u001b[0;34m\u001b[0m\u001b[0;34m\u001b[0m\u001b[0m\n\u001b[0;32m---> 10\u001b[0;31m \u001b[0mp\u001b[0m\u001b[0;34m.\u001b[0m\u001b[0mrun\u001b[0m\u001b[0;34m(\u001b[0m\u001b[0;34m)\u001b[0m\u001b[0;34m\u001b[0m\u001b[0;34m\u001b[0m\u001b[0m\n\u001b[0m",
      "\u001b[0;32m~/1/sources/mkn/HeuristicsBetterThan/search_tools/pipeline.py\u001b[0m in \u001b[0;36mrun\u001b[0;34m(self)\u001b[0m\n\u001b[1;32m     62\u001b[0m     \u001b[0;32mdef\u001b[0m \u001b[0mrun\u001b[0m\u001b[0;34m(\u001b[0m\u001b[0mself\u001b[0m\u001b[0;34m)\u001b[0m\u001b[0;34m:\u001b[0m\u001b[0;34m\u001b[0m\u001b[0;34m\u001b[0m\u001b[0m\n\u001b[1;32m     63\u001b[0m         \u001b[0mm\u001b[0m\u001b[0;34m,\u001b[0m \u001b[0mtasks\u001b[0m \u001b[0;34m=\u001b[0m \u001b[0mself\u001b[0m\u001b[0;34m.\u001b[0m\u001b[0mm_tasks\u001b[0m\u001b[0;34m\u001b[0m\u001b[0;34m\u001b[0m\u001b[0m\n\u001b[0;32m---> 64\u001b[0;31m         \u001b[0ma_results\u001b[0m \u001b[0;34m=\u001b[0m \u001b[0mself\u001b[0m\u001b[0;34m.\u001b[0m\u001b[0ma_results\u001b[0m\u001b[0;34m(\u001b[0m\u001b[0mm\u001b[0m\u001b[0;34m,\u001b[0m \u001b[0mtasks\u001b[0m\u001b[0;34m)\u001b[0m\u001b[0;34m\u001b[0m\u001b[0;34m\u001b[0m\u001b[0m\n\u001b[0m\u001b[1;32m     65\u001b[0m         \u001b[0mself\u001b[0m\u001b[0;34m.\u001b[0m\u001b[0mprocessor\u001b[0m\u001b[0;34m.\u001b[0m\u001b[0mprocess\u001b[0m\u001b[0;34m(\u001b[0m\u001b[0ma_results\u001b[0m\u001b[0;34m)\u001b[0m\u001b[0;34m\u001b[0m\u001b[0;34m\u001b[0m\u001b[0m\n\u001b[1;32m     66\u001b[0m \u001b[0;34m\u001b[0m\u001b[0m\n",
      "\u001b[0;32m~/1/sources/mkn/HeuristicsBetterThan/search_tools/pipeline.py\u001b[0m in \u001b[0;36ma_results\u001b[0;34m(self, m, tasks)\u001b[0m\n\u001b[1;32m     52\u001b[0m                 \u001b[0;31m# todo wrap try/except\u001b[0m\u001b[0;34m\u001b[0m\u001b[0;34m\u001b[0m\u001b[0m\n\u001b[1;32m     53\u001b[0m                 \u001b[0;31m# todo joblibs?\u001b[0m\u001b[0;34m\u001b[0m\u001b[0;34m\u001b[0m\u001b[0m\n\u001b[0;32m---> 54\u001b[0;31m                 a_out = [\n\u001b[0m\u001b[1;32m     55\u001b[0m                     \u001b[0mself\u001b[0m\u001b[0;34m.\u001b[0m\u001b[0mres_builder\u001b[0m\u001b[0;34m(\u001b[0m\u001b[0mt\u001b[0m\u001b[0;34m,\u001b[0m \u001b[0ma\u001b[0m\u001b[0;34m.\u001b[0m\u001b[0mrun\u001b[0m\u001b[0;34m(\u001b[0m\u001b[0mm\u001b[0m\u001b[0;34m,\u001b[0m \u001b[0mt\u001b[0m\u001b[0;34m.\u001b[0m\u001b[0mstart_c\u001b[0m\u001b[0;34m,\u001b[0m \u001b[0mt\u001b[0m\u001b[0;34m.\u001b[0m\u001b[0mgoal_c\u001b[0m\u001b[0;34m)\u001b[0m\u001b[0;34m)\u001b[0m\u001b[0;34m\u001b[0m\u001b[0;34m\u001b[0m\u001b[0m\n\u001b[1;32m     56\u001b[0m                     \u001b[0;32mfor\u001b[0m \u001b[0mt\u001b[0m \u001b[0;32min\u001b[0m \u001b[0mtasks\u001b[0m\u001b[0;34m\u001b[0m\u001b[0;34m\u001b[0m\u001b[0m\n",
      "\u001b[0;32m~/1/sources/mkn/HeuristicsBetterThan/search_tools/pipeline.py\u001b[0m in \u001b[0;36m<listcomp>\u001b[0;34m(.0)\u001b[0m\n\u001b[1;32m     53\u001b[0m                 \u001b[0;31m# todo joblibs?\u001b[0m\u001b[0;34m\u001b[0m\u001b[0;34m\u001b[0m\u001b[0m\n\u001b[1;32m     54\u001b[0m                 a_out = [\n\u001b[0;32m---> 55\u001b[0;31m                     \u001b[0mself\u001b[0m\u001b[0;34m.\u001b[0m\u001b[0mres_builder\u001b[0m\u001b[0;34m(\u001b[0m\u001b[0mt\u001b[0m\u001b[0;34m,\u001b[0m \u001b[0ma\u001b[0m\u001b[0;34m.\u001b[0m\u001b[0mrun\u001b[0m\u001b[0;34m(\u001b[0m\u001b[0mm\u001b[0m\u001b[0;34m,\u001b[0m \u001b[0mt\u001b[0m\u001b[0;34m.\u001b[0m\u001b[0mstart_c\u001b[0m\u001b[0;34m,\u001b[0m \u001b[0mt\u001b[0m\u001b[0;34m.\u001b[0m\u001b[0mgoal_c\u001b[0m\u001b[0;34m)\u001b[0m\u001b[0;34m)\u001b[0m\u001b[0;34m\u001b[0m\u001b[0;34m\u001b[0m\u001b[0m\n\u001b[0m\u001b[1;32m     56\u001b[0m                     \u001b[0;32mfor\u001b[0m \u001b[0mt\u001b[0m \u001b[0;32min\u001b[0m \u001b[0mtasks\u001b[0m\u001b[0;34m\u001b[0m\u001b[0;34m\u001b[0m\u001b[0m\n\u001b[1;32m     57\u001b[0m                 ]\n",
      "\u001b[0;32m~/1/sources/mkn/HeuristicsBetterThan/search_tools/algorithms/astar.py\u001b[0m in \u001b[0;36mrun\u001b[0;34m(self, area, start_coord, goal_coord)\u001b[0m\n\u001b[1;32m     33\u001b[0m                     \u001b[0mh\u001b[0m \u001b[0;34m=\u001b[0m \u001b[0mcalc_h\u001b[0m\u001b[0;34m(\u001b[0m\u001b[0mn_coord\u001b[0m\u001b[0;34m)\u001b[0m\u001b[0;34m\u001b[0m\u001b[0;34m\u001b[0m\u001b[0m\n\u001b[1;32m     34\u001b[0m                     \u001b[0mn_node\u001b[0m \u001b[0;34m=\u001b[0m \u001b[0mNode\u001b[0m\u001b[0;34m(\u001b[0m\u001b[0mn_coord\u001b[0m\u001b[0;34m,\u001b[0m \u001b[0mg\u001b[0m\u001b[0;34m=\u001b[0m\u001b[0mnew_cost\u001b[0m\u001b[0;34m,\u001b[0m \u001b[0mh\u001b[0m\u001b[0;34m=\u001b[0m\u001b[0mh\u001b[0m\u001b[0;34m,\u001b[0m \u001b[0mparent\u001b[0m\u001b[0;34m=\u001b[0m\u001b[0ms\u001b[0m\u001b[0;34m)\u001b[0m\u001b[0;34m\u001b[0m\u001b[0;34m\u001b[0m\u001b[0m\n\u001b[0;32m---> 35\u001b[0;31m                     \u001b[0mop_nodes\u001b[0m\u001b[0;34m.\u001b[0m\u001b[0mpush\u001b[0m\u001b[0;34m(\u001b[0m\u001b[0mn_node\u001b[0m\u001b[0;34m)\u001b[0m\u001b[0;34m\u001b[0m\u001b[0;34m\u001b[0m\u001b[0m\n\u001b[0m\u001b[1;32m     36\u001b[0m \u001b[0;34m\u001b[0m\u001b[0m\n\u001b[1;32m     37\u001b[0m         \u001b[0;32mreturn\u001b[0m \u001b[0;32mNone\u001b[0m\u001b[0;34m,\u001b[0m \u001b[0mcl_nodes\u001b[0m\u001b[0;34m,\u001b[0m \u001b[0mop_nodes\u001b[0m\u001b[0;34m\u001b[0m\u001b[0;34m\u001b[0m\u001b[0m\n",
      "\u001b[0;32m~/1/sources/mkn/HeuristicsBetterThan/search_tools/containers.py\u001b[0m in \u001b[0;36mpush\u001b[0;34m(self, node)\u001b[0m\n\u001b[1;32m      9\u001b[0m     \u001b[0;32mdef\u001b[0m \u001b[0mpush\u001b[0m\u001b[0;34m(\u001b[0m\u001b[0mself\u001b[0m\u001b[0;34m,\u001b[0m \u001b[0mnode\u001b[0m\u001b[0;34m:\u001b[0m \u001b[0mNode\u001b[0m\u001b[0;34m)\u001b[0m\u001b[0;34m:\u001b[0m\u001b[0;34m\u001b[0m\u001b[0;34m\u001b[0m\u001b[0m\n\u001b[1;32m     10\u001b[0m         \u001b[0mself\u001b[0m\u001b[0;34m.\u001b[0m\u001b[0melements\u001b[0m\u001b[0;34m[\u001b[0m\u001b[0mnode\u001b[0m\u001b[0;34m.\u001b[0m\u001b[0mcoord\u001b[0m\u001b[0;34m]\u001b[0m \u001b[0;34m=\u001b[0m \u001b[0mnode\u001b[0m\u001b[0;34m\u001b[0m\u001b[0;34m\u001b[0m\u001b[0m\n\u001b[0;32m---> 11\u001b[0;31m         \u001b[0mself\u001b[0m\u001b[0;34m.\u001b[0m\u001b[0mqueue\u001b[0m\u001b[0;34m.\u001b[0m\u001b[0mput\u001b[0m\u001b[0;34m(\u001b[0m\u001b[0;34m(\u001b[0m\u001b[0mnode\u001b[0m\u001b[0;34m.\u001b[0m\u001b[0mcomp\u001b[0m\u001b[0;34m(\u001b[0m\u001b[0;34m)\u001b[0m\u001b[0;34m,\u001b[0m \u001b[0mnode\u001b[0m\u001b[0;34m)\u001b[0m\u001b[0;34m)\u001b[0m\u001b[0;34m\u001b[0m\u001b[0;34m\u001b[0m\u001b[0m\n\u001b[0m\u001b[1;32m     12\u001b[0m \u001b[0;34m\u001b[0m\u001b[0m\n\u001b[1;32m     13\u001b[0m     \u001b[0;32mdef\u001b[0m \u001b[0m__iter__\u001b[0m\u001b[0;34m(\u001b[0m\u001b[0mself\u001b[0m\u001b[0;34m)\u001b[0m\u001b[0;34m:\u001b[0m\u001b[0;34m\u001b[0m\u001b[0;34m\u001b[0m\u001b[0m\n",
      "\u001b[0;32m/usr/lib/python3.9/queue.py\u001b[0m in \u001b[0;36mput\u001b[0;34m(self, item, block, timeout)\u001b[0m\n\u001b[1;32m    131\u001b[0m         is ignored in that case).\n\u001b[1;32m    132\u001b[0m         '''\n\u001b[0;32m--> 133\u001b[0;31m         \u001b[0;32mwith\u001b[0m \u001b[0mself\u001b[0m\u001b[0;34m.\u001b[0m\u001b[0mnot_full\u001b[0m\u001b[0;34m:\u001b[0m\u001b[0;34m\u001b[0m\u001b[0;34m\u001b[0m\u001b[0m\n\u001b[0m\u001b[1;32m    134\u001b[0m             \u001b[0;32mif\u001b[0m \u001b[0mself\u001b[0m\u001b[0;34m.\u001b[0m\u001b[0mmaxsize\u001b[0m \u001b[0;34m>\u001b[0m \u001b[0;36m0\u001b[0m\u001b[0;34m:\u001b[0m\u001b[0;34m\u001b[0m\u001b[0;34m\u001b[0m\u001b[0m\n\u001b[1;32m    135\u001b[0m                 \u001b[0;32mif\u001b[0m \u001b[0;32mnot\u001b[0m \u001b[0mblock\u001b[0m\u001b[0;34m:\u001b[0m\u001b[0;34m\u001b[0m\u001b[0;34m\u001b[0m\u001b[0m\n",
      "\u001b[0;32m/usr/lib/python3.9/threading.py\u001b[0m in \u001b[0;36m__enter__\u001b[0;34m(self)\u001b[0m\n\u001b[1;32m    254\u001b[0m         \u001b[0mself\u001b[0m\u001b[0;34m.\u001b[0m\u001b[0m_waiters\u001b[0m\u001b[0;34m.\u001b[0m\u001b[0mclear\u001b[0m\u001b[0;34m(\u001b[0m\u001b[0;34m)\u001b[0m\u001b[0;34m\u001b[0m\u001b[0;34m\u001b[0m\u001b[0m\n\u001b[1;32m    255\u001b[0m \u001b[0;34m\u001b[0m\u001b[0m\n\u001b[0;32m--> 256\u001b[0;31m     \u001b[0;32mdef\u001b[0m \u001b[0m__enter__\u001b[0m\u001b[0;34m(\u001b[0m\u001b[0mself\u001b[0m\u001b[0;34m)\u001b[0m\u001b[0;34m:\u001b[0m\u001b[0;34m\u001b[0m\u001b[0;34m\u001b[0m\u001b[0m\n\u001b[0m\u001b[1;32m    257\u001b[0m         \u001b[0;32mreturn\u001b[0m \u001b[0mself\u001b[0m\u001b[0;34m.\u001b[0m\u001b[0m_lock\u001b[0m\u001b[0;34m.\u001b[0m\u001b[0m__enter__\u001b[0m\u001b[0;34m(\u001b[0m\u001b[0;34m)\u001b[0m\u001b[0;34m\u001b[0m\u001b[0;34m\u001b[0m\u001b[0m\n\u001b[1;32m    258\u001b[0m \u001b[0;34m\u001b[0m\u001b[0m\n",
      "\u001b[0;31mKeyboardInterrupt\u001b[0m: "
     ]
    }
   ],
   "source": [
    "def build_dummy_pipeline():\n",
    "    return Pipeline(\n",
    "        reader=MaiReader(MaiMaps.STARCRAFT),\n",
    "        algorithms=[Astar(diagonal_dist)],\n",
    "        res_builder=RunResult.create,\n",
    "        processor=LProcessor(process)\n",
    "    )\n",
    "\n",
    "p = build_dummy_pipeline()\n",
    "p.run()"
   ]
  },
  {
   "cell_type": "markdown",
   "id": "568f2535",
   "metadata": {},
   "source": [
    "# Let's compare manhattan and diagonal"
   ]
  },
  {
   "cell_type": "code",
   "execution_count": null,
   "id": "f0014634",
   "metadata": {},
   "outputs": [],
   "source": [
    "from algorithms.astar_heuristics import diagonal_dist, manhattan_dist\n",
    "from tabulate import tabulate"
   ]
  },
  {
   "cell_type": "code",
   "execution_count": null,
   "id": "251d0b52",
   "metadata": {},
   "outputs": [],
   "source": [
    "smooth = lambda ys, n: uniform_filter1d(ys, n)\n",
    "mean = lambda xs: sum(xs) / len(xs)\n",
    "\n",
    "def plot_all_results(all_results, smooth_sz = 10, smooth_sz_2 = 10):\n",
    "    suboptimals = {}\n",
    "    fig, (ax1, ax2) = plt.subplots(1, 2)\n",
    "    \n",
    "    for h_name, rs in all_results:\n",
    "        sorted_rs = sorted(rs, key=lambda r:r.opt_len)\n",
    "        sorted_rs = [i for i in sorted_rs if i.opt_len != 0]\n",
    "        xs = [i.opt_len for i in sorted_rs]\n",
    "        ys1 = [i.nodes_created for i in sorted_rs]\n",
    "        ax1.plot(xs, smooth(ys1, smooth_sz), label=h_name)\n",
    "        ax1.title.set_text('[Number of expanded (Y)] on [length of optimal path (X)]')\n",
    "        \n",
    "        ys2 = [i.act_len / i.opt_len for i in sorted_rs]\n",
    "        ax2.plot(xs, smooth(ys2, smooth_sz_2), label=h_name)\n",
    "        ax2.title.set_text('[Actual / Optimal lengths (Y)] on [length of optimal path (X)]')\n",
    "        \n",
    "        subs = [i.act_div_opt() for i in sorted_rs if i.act_div_opt() > 1]\n",
    "        if len(subs) > 0:\n",
    "            suboptimals[h_name] = subs\n",
    "    \n",
    "    for ax in (ax1, ax2): ax.legend()\n",
    "    plt.show()\n",
    "        \n",
    "    if len(suboptimals) > 0:\n",
    "        print('Suboptimals:')\n",
    "        si = suboptimals.items()\n",
    "        header = [''] + [h.replace('diagonal', 'diag') for h, _ in si]\n",
    "        cnt = ['count'] + [f'{len(subopt)}' for _, subopt in si]\n",
    "        cnt_prc = ['count %'] + [f'{100 * len(subopt)/len(all_results[0][1]):.1f} %' for _, subopt in si]\n",
    "        worst_ratio = ['worst ratio'] + [f'{max(subopt):.2f}' for _, subopt in si]\n",
    "        mean_ = ['mean subopt'] + [f'{mean(subopt):.2f}' for _, subopt in si]\n",
    "        print(tabulate([header, cnt, cnt_prc, worst_ratio, mean_]))"
   ]
  },
  {
   "cell_type": "code",
   "execution_count": null,
   "id": "cbab2b53",
   "metadata": {},
   "outputs": [],
   "source": [
    "p2 = Pipeline(\n",
    "    reader = p.reader,\n",
    "    algorithms = [Astar(diagonal_dist), Astar(manhattan_dist)],\n",
    "    processor = plot_all_results\n",
    ")"
   ]
  },
  {
   "cell_type": "code",
   "execution_count": null,
   "id": "e8e20871",
   "metadata": {},
   "outputs": [],
   "source": [
    "p2.run()"
   ]
  }
 ],
 "metadata": {
  "kernelspec": {
   "display_name": "Python 3.9 (ipykernel)",
   "language": "python",
   "name": "p39"
  },
  "language_info": {
   "codemirror_mode": {
    "name": "ipython",
    "version": 3
   },
   "file_extension": ".py",
   "mimetype": "text/x-python",
   "name": "python",
   "nbconvert_exporter": "python",
   "pygments_lexer": "ipython3",
   "version": "3.9.7"
  }
 },
 "nbformat": 4,
 "nbformat_minor": 5
}
